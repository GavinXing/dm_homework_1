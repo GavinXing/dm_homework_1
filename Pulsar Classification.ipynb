{
 "cells": [
  {
   "cell_type": "markdown",
   "metadata": {
    "deletable": true,
    "editable": true
   },
   "source": [
    "# Data Mining Work 1"
   ]
  },
  {
   "cell_type": "markdown",
   "metadata": {
    "deletable": true,
    "editable": true
   },
   "source": [
    "## 1. Author Info\n",
    "* sid: 5140369016\n",
    "* name: 邢俊劼\n",
    "* email: gavinxing9016@gmail.com"
   ]
  },
  {
   "cell_type": "markdown",
   "metadata": {
    "deletable": true,
    "editable": true
   },
   "source": [
    "## 2. Data Set"
   ]
  },
  {
   "cell_type": "markdown",
   "metadata": {
    "deletable": true,
    "editable": true
   },
   "source": [
    "* HTRU2 Data Set\n",
    "* <http://archive.ics.uci.edu/ml/datasets/HTRU2>\n",
    "\n",
    "## 2.1 Information\n",
    "> HTRU2 is a data set which describes a sample of pulsar candidates collected during the High Time Resolution Universe Survey (South) . \n",
    "\n",
    "> Pulsars are a rare type of Neutron star that produce radio emission detectable here on Earth. They are of considerable scientific interest as probes of space-time, the inter-stellar medium, and states of matter .\n",
    "\n",
    "> As pulsars rotate, their emission beam sweeps across the sky, and when this crosses our line of sight, produces a detectable pattern of broadband radio emission. As pulsars \n",
    "rotate rapidly, this pattern repeats periodically. Thus pulsar search involves looking for periodic radio signals with large radio telescopes. \n",
    "\n",
    "> Each pulsar produces a slightly different emission pattern, which varies slightly with each rotation . Thus a potential signal detection known as a 'candidate', is averaged over many rotations of the pulsar, as determined by the length of an observation. In the absence of additional info, each candidate could potentially describe a real pulsar. However in practice almost all detections are caused by radio frequency interference (RFI) and noise, making legitimate signals hard to find. \n",
    "\n",
    "> Machine learning tools are now being used to automatically label pulsar candidates to facilitate rapid analysis. Classification systems in particular are being widely adopted, \n",
    "which treat the candidate data sets as binary classification problems. Here the legitimate pulsar examples are a minority positive class, and spurious examples the majority negative class. At present multi-class labels are unavailable, given the costs associated with data annotation. \n",
    "\n",
    "> The data set shared here contains 16,259 spurious examples caused by RFI/noise, and 1,639 real pulsar examples. These examples have all been checked by human annotators. \n",
    "\n",
    "> The data is presented in two formats: CSV and ARFF (used by the WEKA data mining tool). Candidates are stored in both files in separate rows. Each row lists the variables first, and the class label is the final entry. The class labels used are 0 (negative) and 1 (positive). \n",
    "\n",
    "> Please note that the data contains no positional information or other astronomical details. It is simply feature data extracted from candidate files using the PulsarFeatureLab tool .\n",
    "\n",
    "## 2.2 Attribute Info\n",
    "> Each candidate is described by 8 continuous variables, and a single class variable. The first four are simple statistics obtained from the integrated pulse profile (folded profile). This is an array of continuous variables that describe a longitude-resolved version of the signal that has been averaged in both time and frequency . The remaining four variables are similarly obtained from the DM-SNR curve. These are summarised below: \n",
    "\n",
    "> 1. Mean of the integrated profile. \n",
    "> 2. Standard deviation of the integrated profile. \n",
    "> 3. Excess kurtosis of the integrated profile. \n",
    "> 4. Skewness of the integrated profile. \n",
    "> 5. Mean of the DM-SNR curve. \n",
    "> 6. Standard deviation of the DM-SNR curve. \n",
    "> 7. Excess kurtosis of the DM-SNR curve. \n",
    "> 8. Skewness of the DM-SNR curve. \n",
    "> 9. Class \n",
    "\n",
    "> 17,898 total examples. \n",
    "> 1,639 positive examples. \n",
    "> 16,259 negative examples.\n",
    "\n"
   ]
  },
  {
   "cell_type": "markdown",
   "metadata": {
    "deletable": true,
    "editable": true
   },
   "source": [
    "## 3. Load data"
   ]
  },
  {
   "cell_type": "code",
   "execution_count": 1,
   "metadata": {
    "collapsed": true,
    "deletable": true,
    "editable": true
   },
   "outputs": [],
   "source": [
    "import pandas as pd\n",
    "import numpy as np\n",
    "from time import time\n",
    "import os"
   ]
  },
  {
   "cell_type": "code",
   "execution_count": 2,
   "metadata": {
    "collapsed": false,
    "deletable": true,
    "editable": true
   },
   "outputs": [
    {
     "data": {
      "text/html": [
       "<div>\n",
       "<table border=\"1\" class=\"dataframe\">\n",
       "  <thead>\n",
       "    <tr style=\"text-align: right;\">\n",
       "      <th></th>\n",
       "      <th>M1</th>\n",
       "      <th>SD1</th>\n",
       "      <th>EK1</th>\n",
       "      <th>S1</th>\n",
       "      <th>M2</th>\n",
       "      <th>SD2</th>\n",
       "      <th>EK2</th>\n",
       "      <th>S2</th>\n",
       "      <th>Y</th>\n",
       "    </tr>\n",
       "  </thead>\n",
       "  <tbody>\n",
       "    <tr>\n",
       "      <th>0</th>\n",
       "      <td>140.562500</td>\n",
       "      <td>55.683782</td>\n",
       "      <td>-0.234571</td>\n",
       "      <td>-0.699648</td>\n",
       "      <td>3.199833</td>\n",
       "      <td>19.110426</td>\n",
       "      <td>7.975532</td>\n",
       "      <td>74.242225</td>\n",
       "      <td>0</td>\n",
       "    </tr>\n",
       "    <tr>\n",
       "      <th>1</th>\n",
       "      <td>102.507812</td>\n",
       "      <td>58.882430</td>\n",
       "      <td>0.465318</td>\n",
       "      <td>-0.515088</td>\n",
       "      <td>1.677258</td>\n",
       "      <td>14.860146</td>\n",
       "      <td>10.576487</td>\n",
       "      <td>127.393580</td>\n",
       "      <td>0</td>\n",
       "    </tr>\n",
       "    <tr>\n",
       "      <th>2</th>\n",
       "      <td>103.015625</td>\n",
       "      <td>39.341649</td>\n",
       "      <td>0.323328</td>\n",
       "      <td>1.051164</td>\n",
       "      <td>3.121237</td>\n",
       "      <td>21.744669</td>\n",
       "      <td>7.735822</td>\n",
       "      <td>63.171909</td>\n",
       "      <td>0</td>\n",
       "    </tr>\n",
       "    <tr>\n",
       "      <th>3</th>\n",
       "      <td>136.750000</td>\n",
       "      <td>57.178449</td>\n",
       "      <td>-0.068415</td>\n",
       "      <td>-0.636238</td>\n",
       "      <td>3.642977</td>\n",
       "      <td>20.959280</td>\n",
       "      <td>6.896499</td>\n",
       "      <td>53.593661</td>\n",
       "      <td>0</td>\n",
       "    </tr>\n",
       "    <tr>\n",
       "      <th>4</th>\n",
       "      <td>88.726562</td>\n",
       "      <td>40.672225</td>\n",
       "      <td>0.600866</td>\n",
       "      <td>1.123492</td>\n",
       "      <td>1.178930</td>\n",
       "      <td>11.468720</td>\n",
       "      <td>14.269573</td>\n",
       "      <td>252.567306</td>\n",
       "      <td>0</td>\n",
       "    </tr>\n",
       "  </tbody>\n",
       "</table>\n",
       "</div>"
      ],
      "text/plain": [
       "           M1        SD1       EK1        S1        M2        SD2        EK2  \\\n",
       "0  140.562500  55.683782 -0.234571 -0.699648  3.199833  19.110426   7.975532   \n",
       "1  102.507812  58.882430  0.465318 -0.515088  1.677258  14.860146  10.576487   \n",
       "2  103.015625  39.341649  0.323328  1.051164  3.121237  21.744669   7.735822   \n",
       "3  136.750000  57.178449 -0.068415 -0.636238  3.642977  20.959280   6.896499   \n",
       "4   88.726562  40.672225  0.600866  1.123492  1.178930  11.468720  14.269573   \n",
       "\n",
       "           S2  Y  \n",
       "0   74.242225  0  \n",
       "1  127.393580  0  \n",
       "2   63.171909  0  \n",
       "3   53.593661  0  \n",
       "4  252.567306  0  "
      ]
     },
     "execution_count": 2,
     "metadata": {},
     "output_type": "execute_result"
    }
   ],
   "source": [
    "data_path = './data/HTRU_2.csv'\n",
    "data = pd.read_csv(data_path, header=None) # no head in .csv\n",
    "data.columns = [\"M1\", \"SD1\", \"EK1\", \"S1\", \"M2\", \"SD2\", \"EK2\", \"S2\", \"Y\"]\n",
    "data.head()"
   ]
  },
  {
   "cell_type": "code",
   "execution_count": 3,
   "metadata": {
    "collapsed": false,
    "deletable": true,
    "editable": true
   },
   "outputs": [],
   "source": [
    "cols = list(data.columns) # split data to X and Y\n",
    "X = data[cols[0:8]] \n",
    "Y = data['Y']"
   ]
  },
  {
   "cell_type": "markdown",
   "metadata": {
    "deletable": true,
    "editable": true
   },
   "source": [
    "## 4. Data Explore"
   ]
  },
  {
   "cell_type": "markdown",
   "metadata": {
    "deletable": true,
    "editable": true
   },
   "source": [
    "### 4.1 Data Correlation\n",
    "> 在概率论和统计学中，相关（Correlation，或称相关系数或关联系数），显示两个随机变量之间线性关系的强度和方向。在统计学中，相关的意义是用来衡量两个变量相对于其相互独立的距离。在这个广义的定义下，有许多根据数据特点而定义的用来衡量数据相关的系数。<https://zh.wikipedia.org/wiki/%E7%9B%B8%E5%85%B3>"
   ]
  },
  {
   "cell_type": "code",
   "execution_count": 4,
   "metadata": {
    "collapsed": true,
    "deletable": true,
    "editable": true
   },
   "outputs": [],
   "source": [
    "# visualization\n",
    "import matplotlib as mpl\n",
    "import matplotlib.pyplot as plt\n",
    "import matplotlib.pylab as pylab\n",
    "import seaborn as sns\n",
    "\n",
    "%matplotlib inline\n",
    "mpl.style.use( 'ggplot' )\n",
    "sns.set_style( 'white' )\n",
    "pylab.rcParams[ 'figure.figsize' ] = 8 , 6\n",
    "\n",
    "def plot_correlation_map( df ):\n",
    "    corr = df.corr()\n",
    "    _ , ax = plt.subplots( figsize =( 12 , 10 ) )\n",
    "    cmap = sns.diverging_palette( 240 , 15 , as_cmap = True )\n",
    "    _ = sns.heatmap(\n",
    "        corr, \n",
    "        cmap = cmap,\n",
    "        square=True, \n",
    "        cbar_kws={ 'shrink' : .9 }, \n",
    "        ax=ax, \n",
    "        annot = True, \n",
    "        annot_kws = { 'fontsize' : 12 }\n",
    "    )"
   ]
  },
  {
   "cell_type": "code",
   "execution_count": 5,
   "metadata": {
    "collapsed": false,
    "deletable": true,
    "editable": true
   },
   "outputs": [
    {
     "data": {
      "image/png": "[encoded data removed]",
      "text/plain": [
       "<matplotlib.figure.Figure at 0x10954e470>"
      ]
     },
     "metadata": {},
     "output_type": "display_data"
    }
   ],
   "source": [
    "plot_correlation_map(X)"
   ]
  },
  {
   "cell_type": "markdown",
   "metadata": {},
   "source": [
    "### 从上图中我们可以发现，对应的M和SD属性，对应的EK和S属性之间相关性非常大，在选择的分类算法复杂性与属性个数成非线性相关时，我们可以考虑将M和SD取其一，EK和S取其一，这样可以将属性个数从8降低到4，从而节省模型拟合时间。\n",
    "### 但由于我所实现的是KNN分类算法，这是一种与属性呈线性相关的算法，因此我并没有用这种方法来降维。"
   ]
  },
  {
   "cell_type": "markdown",
   "metadata": {
    "deletable": true,
    "editable": true
   },
   "source": [
    "### 4.2  Principle Component Analysys\n",
    ">在多元统计分析中，主成分分析（英语：Principal components analysis，PCA）是一种分析、简化数据集的技术。主成分分析经常用于减少数据集的维数，同时保持数据集中的对方差贡献最大的特征。这是通过保留低阶主成分，忽略高阶主成分做到的。这样低阶成分往往能够保留住数据的最重要方面。但是，这也不是一定的，要视具体应用而定。由于主成分分析依赖所给数据，所以数据的准确性对分析结果影响很大。\n",
    "<https://zh.wikipedia.org/wiki/%E4%B8%BB%E6%88%90%E5%88%86%E5%88%86%E6%9E%90>\n"
   ]
  },
  {
   "cell_type": "code",
   "execution_count": 6,
   "metadata": {
    "collapsed": false,
    "deletable": true,
    "editable": true
   },
   "outputs": [
    {
     "name": "stdout",
     "output_type": "stream",
     "text": [
      "[  1.16344274e+04   1.04440928e+03   5.49712976e+02   8.22731919e+01\n",
      "   3.25527688e+01   1.28034819e+01   5.21675450e-01   3.73946813e-02]\n"
     ]
    }
   ],
   "source": [
    "from sklearn.decomposition import PCA\n",
    "pca = PCA(n_components=8)\n",
    "pca.fit(X)\n",
    "print(pca.explained_variance_)"
   ]
  },
  {
   "cell_type": "code",
   "execution_count": 7,
   "metadata": {
    "collapsed": false,
    "deletable": true,
    "editable": true
   },
   "outputs": [
    {
     "data": {
      "image/png": "[encoded data removed]",
      "text/plain": [
       "<matplotlib.figure.Figure at 0x10954e7f0>"
      ]
     },
     "metadata": {},
     "output_type": "display_data"
    }
   ],
   "source": [
    "%matplotlib inline\n",
    "import matplotlib.pyplot as plt\n",
    "plt.plot(list(pca.explained_variance_ratio_),'-o')\n",
    "plt.title('Explained variance ratio as function of PCA components')\n",
    "plt.ylabel('Explained variance ratio')\n",
    "plt.xlabel('Component')\n",
    "plt.show()"
   ]
  },
  {
   "cell_type": "markdown",
   "metadata": {},
   "source": [
    "###     分析结果可以发现，前两个变量的重要性比较大；因此我在之后使用了PCA降维成2之后的数据同样进行了分类。"
   ]
  },
  {
   "cell_type": "markdown",
   "metadata": {},
   "source": [
    "## 5. Data sampling\n",
    "### 根据数据统计，共有1639个正类和16259个负类，数据集过于不平衡，因此我做了一下数据采样，将比例调整为1:1\n",
    "### 同时，由于我所使用的是KNN算法，需要计算属性向量之间的欧几里得距离，因此我使用了MinMaxScaler对数据进行了归一化处理，默认会将属性值归一化到区间[0, 1]之间。"
   ]
  },
  {
   "cell_type": "code",
   "execution_count": 8,
   "metadata": {
    "collapsed": false,
    "deletable": true,
    "editable": true
   },
   "outputs": [
    {
     "name": "stdout",
     "output_type": "stream",
     "text": [
      "(17898, 8) (17898,)\n",
      "total 1639 rows are detected as pulsar while 16259 rows aren't.\n"
     ]
    }
   ],
   "source": [
    "# some data process\n",
    "from sklearn.preprocessing import StandardScaler, MinMaxScaler\n",
    "from sklearn import model_selection\n",
    "\n",
    "# do Standardlization\n",
    "X = MinMaxScaler().fit_transform(X)\n",
    "Y = np.array(Y)\n",
    "\n",
    "index_not = []\n",
    "index_is = []\n",
    "print(X.shape, Y.shape)\n",
    "for index, x in enumerate(X):\n",
    "    if Y[index] == 0:\n",
    "        index_not.append(index)\n",
    "    else:\n",
    "        index_is.append(index)\n",
    "print(\"total {} rows are detected as pulsar while {} rows aren't.\".format(len(index_is), len(index_not)))"
   ]
  },
  {
   "cell_type": "code",
   "execution_count": 9,
   "metadata": {
    "collapsed": false,
    "deletable": true,
    "editable": true
   },
   "outputs": [],
   "source": [
    "# 平衡数据集\n",
    "import random\n",
    "delete_not_index = random.sample(index_not, len(index_not) - len(index_is))\n",
    "delete_not_index.sort(reverse=True)\n",
    "for index in delete_not_index:\n",
    "    X = np.delete(X, index, axis=0)\n",
    "    Y = np.delete(Y, index, axis=0)"
   ]
  },
  {
   "cell_type": "code",
   "execution_count": 10,
   "metadata": {
    "collapsed": false
   },
   "outputs": [
    {
     "name": "stdout",
     "output_type": "stream",
     "text": [
      "total 1639 rows are detected as pulsar while 1639 rows aren't.\n"
     ]
    }
   ],
   "source": [
    "index_not = []\n",
    "index_is = []\n",
    "for index, x in enumerate(X):\n",
    "    if Y[index] == 0:\n",
    "        index_not.append(index)\n",
    "    else:\n",
    "        index_is.append(index)\n",
    "print(\"total {} rows are detected as pulsar while {} rows aren't.\".format(len(index_is), len(index_not)))\n",
    "X_train, X_test, Y_train, Y_test = model_selection.train_test_split(X, Y, test_size=0.4, random_state=0)"
   ]
  },
  {
   "cell_type": "markdown",
   "metadata": {},
   "source": [
    "## 6. Classifier Selection\n",
    "### 在选择分类器之前，我在网上找了一些关于\n"
   ]
  },
  {
   "cell_type": "markdown",
   "metadata": {},
   "source": [
    "## 6. Classification\n",
    "### Main task of this homework"
   ]
  },
  {
   "cell_type": "code",
   "execution_count": 11,
   "metadata": {
    "collapsed": false,
    "deletable": true,
    "editable": true
   },
   "outputs": [
    {
     "name": "stdout",
     "output_type": "stream",
     "text": [
      "Time Elapsed:  0.37860608100891113\n"
     ]
    }
   ],
   "source": [
    "from KNN import KNN  # import my KNN\n",
    "cell_start=time()\n",
    "k = KNN(n_neighbors=3)\n",
    "k.fit(X_train, Y_train)\n",
    "pred_knn = k.predict(X_test)\n",
    "cell_end=time()\n",
    "print (\"Time Elapsed: \", cell_end - cell_start)"
   ]
  },
  {
   "cell_type": "code",
   "execution_count": 12,
   "metadata": {
    "collapsed": false
   },
   "outputs": [],
   "source": [
    "def score(pred_y, test_y, print=False):\n",
    "    tp, fp, tn, fn = [0,0,0,0]\n",
    "    for index, y in enumerate(pred_y):\n",
    "        if y == test_y[index]:\n",
    "            if y == 0:\n",
    "                tn += 1\n",
    "            else:\n",
    "                tp += 1\n",
    "        else:\n",
    "            if y == 0:\n",
    "                fn += 1\n",
    "            else:\n",
    "                fp += 1\n",
    "    if print:\n",
    "        print(\"Accuracy: {}\\nRecall: {}\".format(tp/(tp+fp), tp/(tp+fn)))\n",
    "    return tp/(tp+fp), tp/(tp+fn)\n",
    "                "
   ]
  },
  {
   "cell_type": "code",
   "execution_count": 13,
   "metadata": {
    "collapsed": false
   },
   "outputs": [
    {
     "data": {
      "text/plain": [
       "(0.910828025477707, 0.896551724137931)"
      ]
     },
     "execution_count": 13,
     "metadata": {},
     "output_type": "execute_result"
    }
   ],
   "source": [
    "score(pred_knn, Y_test)"
   ]
  },
  {
   "cell_type": "markdown",
   "metadata": {},
   "source": [
    "## 7. Classification After PCA\n",
    "### My extended task of this homework"
   ]
  },
  {
   "cell_type": "code",
   "execution_count": 14,
   "metadata": {
    "collapsed": false
   },
   "outputs": [
    {
     "name": "stdout",
     "output_type": "stream",
     "text": [
      "(1966, 2) (1966,)\n"
     ]
    }
   ],
   "source": [
    "from sklearn.decomposition import PCA\n",
    "pca = PCA(n_components=2)\n",
    "newX = pca.fit_transform(X)\n",
    "X_train_new, X_test_new, Y_train_new, Y_test_new = model_selection.train_test_split(newX, Y, test_size=0.4, random_state=0)\n",
    "print(X_train_new.shape, Y_train_new.shape)"
   ]
  },
  {
   "cell_type": "code",
   "execution_count": 15,
   "metadata": {
    "collapsed": false
   },
   "outputs": [
    {
     "name": "stdout",
     "output_type": "stream",
     "text": [
      "Time Elapsed:  0.3435370922088623\n"
     ]
    }
   ],
   "source": [
    "from KNN import KNN  # import my KNN\n",
    "cell_start=time()\n",
    "k = KNN(n_neighbors=3)\n",
    "k.fit(X_train_new, Y_train_new)\n",
    "pred_knn_new = k.predict(X_test_new)\n",
    "cell_end=time()\n",
    "print (\"Time Elapsed: \", cell_end - cell_start)"
   ]
  },
  {
   "cell_type": "code",
   "execution_count": 16,
   "metadata": {
    "collapsed": false,
    "deletable": true,
    "editable": true
   },
   "outputs": [
    {
     "data": {
      "text/plain": [
       "(0.913322632423756, 0.8918495297805643)"
      ]
     },
     "execution_count": 16,
     "metadata": {},
     "output_type": "execute_result"
    }
   ],
   "source": [
    "score(pred_knn_new, Y_test_new)"
   ]
  },
  {
   "cell_type": "markdown",
   "metadata": {
    "deletable": true,
    "editable": true
   },
   "source": [
    "## 5. Test how K matters"
   ]
  },
  {
   "cell_type": "code",
   "execution_count": 17,
   "metadata": {
    "collapsed": false
   },
   "outputs": [
    {
     "name": "stdout",
     "output_type": "stream",
     "text": [
      "Time Elapsed:  13.502904176712036\n"
     ]
    }
   ],
   "source": [
    "cell_start=time()\n",
    "origin_rst = []\n",
    "pca_rst = []\n",
    "k_set = [1, 2, 3, 4, 5, 6, 7, 8, 9, 10, 12, 15, 19, 24, 30, 37, 45, 54, 64, 75, 87, 100]\n",
    "for k_neighbors in k_set:\n",
    "    k = KNN()\n",
    "    k = KNN(n_neighbors=k_neighbors)\n",
    "    k.fit(X_train, Y_train)\n",
    "    pred_knn = k.predict(X_test)\n",
    "    origin_rst.append(score(pred_knn, Y_test))\n",
    "    \n",
    "    k.fit(X_train_new, Y_train_new)\n",
    "    pred_knn_new = k.predict(X_test_new)\n",
    "    pca_rst.append(score(pred_knn_new, Y_test_new))\n",
    "\n",
    "cell_end=time()\n",
    "print (\"Time Elapsed: \", cell_end - cell_start)"
   ]
  },
  {
   "cell_type": "markdown",
   "metadata": {
    "deletable": true,
    "editable": true
   },
   "source": [
    "## 9. Result Analysis"
   ]
  },
  {
   "cell_type": "code",
   "execution_count": 18,
   "metadata": {
    "collapsed": false,
    "deletable": true,
    "editable": true
   },
   "outputs": [
    {
     "data": {
      "image/png": "[encoded data removed]",
      "text/plain": [
       "<matplotlib.figure.Figure at 0x1096d0748>"
      ]
     },
     "metadata": {},
     "output_type": "display_data"
    }
   ],
   "source": [
    "# drow a line\n",
    "classifiers = ['svm', 'naive_bayes', 'logistic_regression', 'decision_tree', 'random_forest']\n",
    "accuracy_data = [x[0] for x in origin_rst]\n",
    "accuracy_data_pca = [x[1] for x in pca_rst]\n",
    "plt.style.use('ggplot')\n",
    "plt_index = k_set\n",
    "plt.figure(figsize=(10, 10/1.618))\n",
    "plt.ylim(0.75, 1)\n",
    "plt.title(\"Accuracy of the Classifiers with different k\", fontsize=20)\n",
    "plt.xlabel(\"Neighbors\", fontsize=20)\n",
    "plt.ylabel(\"Accuracyy\", fontsize=20)\n",
    "plt.plot(plt_index, accuracy_data,'-',label=\"origin_data\")\n",
    "plt.plot(plt_index, accuracy_data_pca,'-',label=\"pca_data\")\n",
    "plt.legend(fontsize=20)\n",
    "plt.grid()"
   ]
  },
  {
   "cell_type": "markdown",
   "metadata": {
    "collapsed": false,
    "deletable": true,
    "editable": true
   },
   "source": [
    "###        从上图中我们可以发现， 当k从1上升到10时， 总体上有准确率上升的趋势。当k继续增加时，准确率并不会上升，反而在超过30时，有稍微下降的趋势。我认为，这个现象的出现原因在于数据集在高维空间上比较稀疏，导致当k增加时会包含到更多的错误类的点，从而导致分类出错。"
   ]
  }
 ],
 "metadata": {
  "kernelspec": {
   "display_name": "Python 3",
   "language": "python",
   "name": "python3"
  },
  "language_info": {
   "codemirror_mode": {
    "name": "ipython",
    "version": 3
   },
   "file_extension": ".py",
   "mimetype": "text/x-python",
   "name": "python",
   "nbconvert_exporter": "python",
   "pygments_lexer": "ipython3",
   "version": "3.5.1"
  }
 },
 "nbformat": 4,
 "nbformat_minor": 2
}
