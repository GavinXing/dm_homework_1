{
 "cells": [
  {
   "cell_type": "markdown",
   "metadata": {
    "deletable": true,
    "editable": true
   },
   "source": [
    "# Data Mining Work 1"
   ]
  },
  {
   "cell_type": "markdown",
   "metadata": {
    "deletable": true,
    "editable": true
   },
   "source": [
    "## 1. Author Info\n",
    "* sid: 5140369016\n",
    "* name: 邢俊劼\n",
    "* email: gavinxing9016@gmail.com"
   ]
  },
  {
   "cell_type": "markdown",
   "metadata": {
    "deletable": true,
    "editable": true
   },
   "source": [
    "## 2. Data Set"
   ]
  },
  {
   "cell_type": "markdown",
   "metadata": {
    "deletable": true,
    "editable": true
   },
   "source": [
    "* HTRU2 Data Set\n",
    "* <http://archive.ics.uci.edu/ml/datasets/HTRU2>\n",
    "\n",
    "## 2.1 Information\n",
    "> HTRU2 is a data set which describes a sample of pulsar candidates collected during the High Time Resolution Universe Survey (South) . \n",
    "\n",
    "> Pulsars are a rare type of Neutron star that produce radio emission detectable here on Earth. They are of considerable scientific interest as probes of space-time, the inter-stellar medium, and states of matter .\n",
    "\n",
    "> As pulsars rotate, their emission beam sweeps across the sky, and when this crosses our line of sight, produces a detectable pattern of broadband radio emission. As pulsars \n",
    "rotate rapidly, this pattern repeats periodically. Thus pulsar search involves looking for periodic radio signals with large radio telescopes. \n",
    "\n",
    "> Each pulsar produces a slightly different emission pattern, which varies slightly with each rotation . Thus a potential signal detection known as a 'candidate', is averaged over many rotations of the pulsar, as determined by the length of an observation. In the absence of additional info, each candidate could potentially describe a real pulsar. However in practice almost all detections are caused by radio frequency interference (RFI) and noise, making legitimate signals hard to find. \n",
    "\n",
    "> Machine learning tools are now being used to automatically label pulsar candidates to facilitate rapid analysis. Classification systems in particular are being widely adopted, \n",
    "which treat the candidate data sets as binary classification problems. Here the legitimate pulsar examples are a minority positive class, and spurious examples the majority negative class. At present multi-class labels are unavailable, given the costs associated with data annotation. \n",
    "\n",
    "> The data set shared here contains 16,259 spurious examples caused by RFI/noise, and 1,639 real pulsar examples. These examples have all been checked by human annotators. \n",
    "\n",
    "> The data is presented in two formats: CSV and ARFF (used by the WEKA data mining tool). Candidates are stored in both files in separate rows. Each row lists the variables first, and the class label is the final entry. The class labels used are 0 (negative) and 1 (positive). \n",
    "\n",
    "> Please note that the data contains no positional information or other astronomical details. It is simply feature data extracted from candidate files using the PulsarFeatureLab tool .\n",
    "\n",
    "## 2.2 Attribute Info\n",
    "> Each candidate is described by 8 continuous variables, and a single class variable. The first four are simple statistics obtained from the integrated pulse profile (folded profile). This is an array of continuous variables that describe a longitude-resolved version of the signal that has been averaged in both time and frequency . The remaining four variables are similarly obtained from the DM-SNR curve. These are summarised below: \n",
    "\n",
    "> 1. Mean of the integrated profile. \n",
    "> 2. Standard deviation of the integrated profile. \n",
    "> 3. Excess kurtosis of the integrated profile. \n",
    "> 4. Skewness of the integrated profile. \n",
    "> 5. Mean of the DM-SNR curve. \n",
    "> 6. Standard deviation of the DM-SNR curve. \n",
    "> 7. Excess kurtosis of the DM-SNR curve. \n",
    "> 8. Skewness of the DM-SNR curve. \n",
    "> 9. Class \n",
    "\n",
    "> 17,898 total examples. \n",
    "> 1,639 positive examples. \n",
    "> 16,259 negative examples.\n",
    "\n"
   ]
  },
  {
   "cell_type": "markdown",
   "metadata": {
    "deletable": true,
    "editable": true
   },
   "source": [
    "## 3. Load data"
   ]
  },
  {
   "cell_type": "code",
   "execution_count": 119,
   "metadata": {
    "collapsed": true,
    "deletable": true,
    "editable": true
   },
   "outputs": [],
   "source": [
    "import pandas as pd\n",
    "import numpy as np\n",
    "from time import time\n",
    "import os\n",
    "mode = 'full'  # set mode to 'debug' to use 1000 samples"
   ]
  },
  {
   "cell_type": "code",
   "execution_count": 120,
   "metadata": {
    "collapsed": false,
    "deletable": true,
    "editable": true
   },
   "outputs": [
    {
     "data": {
      "text/html": [
       "<div>\n",
       "<table border=\"1\" class=\"dataframe\">\n",
       "  <thead>\n",
       "    <tr style=\"text-align: right;\">\n",
       "      <th></th>\n",
       "      <th>M1</th>\n",
       "      <th>SD1</th>\n",
       "      <th>EK1</th>\n",
       "      <th>S1</th>\n",
       "      <th>M2</th>\n",
       "      <th>SD2</th>\n",
       "      <th>EK2</th>\n",
       "      <th>S2</th>\n",
       "      <th>Y</th>\n",
       "    </tr>\n",
       "  </thead>\n",
       "  <tbody>\n",
       "    <tr>\n",
       "      <th>0</th>\n",
       "      <td>140.562500</td>\n",
       "      <td>55.683782</td>\n",
       "      <td>-0.234571</td>\n",
       "      <td>-0.699648</td>\n",
       "      <td>3.199833</td>\n",
       "      <td>19.110426</td>\n",
       "      <td>7.975532</td>\n",
       "      <td>74.242225</td>\n",
       "      <td>0</td>\n",
       "    </tr>\n",
       "    <tr>\n",
       "      <th>1</th>\n",
       "      <td>102.507812</td>\n",
       "      <td>58.882430</td>\n",
       "      <td>0.465318</td>\n",
       "      <td>-0.515088</td>\n",
       "      <td>1.677258</td>\n",
       "      <td>14.860146</td>\n",
       "      <td>10.576487</td>\n",
       "      <td>127.393580</td>\n",
       "      <td>0</td>\n",
       "    </tr>\n",
       "    <tr>\n",
       "      <th>2</th>\n",
       "      <td>103.015625</td>\n",
       "      <td>39.341649</td>\n",
       "      <td>0.323328</td>\n",
       "      <td>1.051164</td>\n",
       "      <td>3.121237</td>\n",
       "      <td>21.744669</td>\n",
       "      <td>7.735822</td>\n",
       "      <td>63.171909</td>\n",
       "      <td>0</td>\n",
       "    </tr>\n",
       "    <tr>\n",
       "      <th>3</th>\n",
       "      <td>136.750000</td>\n",
       "      <td>57.178449</td>\n",
       "      <td>-0.068415</td>\n",
       "      <td>-0.636238</td>\n",
       "      <td>3.642977</td>\n",
       "      <td>20.959280</td>\n",
       "      <td>6.896499</td>\n",
       "      <td>53.593661</td>\n",
       "      <td>0</td>\n",
       "    </tr>\n",
       "    <tr>\n",
       "      <th>4</th>\n",
       "      <td>88.726562</td>\n",
       "      <td>40.672225</td>\n",
       "      <td>0.600866</td>\n",
       "      <td>1.123492</td>\n",
       "      <td>1.178930</td>\n",
       "      <td>11.468720</td>\n",
       "      <td>14.269573</td>\n",
       "      <td>252.567306</td>\n",
       "      <td>0</td>\n",
       "    </tr>\n",
       "  </tbody>\n",
       "</table>\n",
       "</div>"
      ],
      "text/plain": [
       "           M1        SD1       EK1        S1        M2        SD2        EK2  \\\n",
       "0  140.562500  55.683782 -0.234571 -0.699648  3.199833  19.110426   7.975532   \n",
       "1  102.507812  58.882430  0.465318 -0.515088  1.677258  14.860146  10.576487   \n",
       "2  103.015625  39.341649  0.323328  1.051164  3.121237  21.744669   7.735822   \n",
       "3  136.750000  57.178449 -0.068415 -0.636238  3.642977  20.959280   6.896499   \n",
       "4   88.726562  40.672225  0.600866  1.123492  1.178930  11.468720  14.269573   \n",
       "\n",
       "           S2  Y  \n",
       "0   74.242225  0  \n",
       "1  127.393580  0  \n",
       "2   63.171909  0  \n",
       "3   53.593661  0  \n",
       "4  252.567306  0  "
      ]
     },
     "execution_count": 120,
     "metadata": {},
     "output_type": "execute_result"
    }
   ],
   "source": [
    "data_path = './data/HTRU_2.csv'\n",
    "data = pd.read_csv(data_path, header=None) # no head in .csv\n",
    "data.columns = [\"M1\", \"SD1\", \"EK1\", \"S1\", \"M2\", \"SD2\", \"EK2\", \"S2\", \"Y\"]\n",
    "data.head()"
   ]
  },
  {
   "cell_type": "code",
   "execution_count": 121,
   "metadata": {
    "collapsed": false,
    "deletable": true,
    "editable": true
   },
   "outputs": [],
   "source": [
    "cols = list(data.columns) # split data to X and Y\n",
    "X = data[cols[0:8]] \n",
    "Y = data['Y']"
   ]
  },
  {
   "cell_type": "markdown",
   "metadata": {
    "deletable": true,
    "editable": true
   },
   "source": [
    "## 4. Data Explore"
   ]
  },
  {
   "cell_type": "markdown",
   "metadata": {
    "deletable": true,
    "editable": true
   },
   "source": [
    "### 4.1 Data Correlation\n",
    "> 在概率论和统计学中，相关（Correlation，或称相关系数或关联系数），显示两个随机变量之间线性关系的强度和方向。在统计学中，相关的意义是用来衡量两个变量相对于其相互独立的距离。在这个广义的定义下，有许多根据数据特点而定义的用来衡量数据相关的系数。<https://zh.wikipedia.org/wiki/%E7%9B%B8%E5%85%B3>"
   ]
  },
  {
   "cell_type": "code",
   "execution_count": 122,
   "metadata": {
    "collapsed": true,
    "deletable": true,
    "editable": true
   },
   "outputs": [],
   "source": [
    "# visualization\n",
    "import matplotlib as mpl\n",
    "import matplotlib.pyplot as plt\n",
    "import matplotlib.pylab as pylab\n",
    "import seaborn as sns\n",
    "\n",
    "%matplotlib inline\n",
    "mpl.style.use( 'ggplot' )\n",
    "sns.set_style( 'white' )\n",
    "pylab.rcParams[ 'figure.figsize' ] = 8 , 6\n",
    "\n",
    "def plot_correlation_map( df ):\n",
    "    corr = df.corr()\n",
    "    _ , ax = plt.subplots( figsize =( 12 , 10 ) )\n",
    "    cmap = sns.diverging_palette( 240 , 15 , as_cmap = True )\n",
    "    _ = sns.heatmap(\n",
    "        corr, \n",
    "        cmap = cmap,\n",
    "        square=True, \n",
    "        cbar_kws={ 'shrink' : .9 }, \n",
    "        ax=ax, \n",
    "        annot = True, \n",
    "        annot_kws = { 'fontsize' : 12 }\n",
    "    )"
   ]
  },
  {
   "cell_type": "code",
   "execution_count": 123,
   "metadata": {
    "collapsed": false,
    "deletable": true,
    "editable": true
   },
   "outputs": [
    {
     "data": {
      "image/png": "[encoded data removed]",
      "text/plain": [
       "<matplotlib.figure.Figure at 0x1027a4550>"
      ]
     },
     "metadata": {},
     "output_type": "display_data"
    }
   ],
   "source": [
    "plot_correlation_map(X)"
   ]
  },
  {
   "cell_type": "markdown",
   "metadata": {
    "deletable": true,
    "editable": true
   },
   "source": [
    "### 4.2  Principle Component Analysys\n",
    ">在多元统计分析中，主成分分析（英语：Principal components analysis，PCA）是一种分析、简化数据集的技术。主成分分析经常用于减少数据集的维数，同时保持数据集中的对方差贡献最大的特征。这是通过保留低阶主成分，忽略高阶主成分做到的。这样低阶成分往往能够保留住数据的最重要方面。但是，这也不是一定的，要视具体应用而定。由于主成分分析依赖所给数据，所以数据的准确性对分析结果影响很大。\n",
    "<https://zh.wikipedia.org/wiki/%E4%B8%BB%E6%88%90%E5%88%86%E5%88%86%E6%9E%90>\n",
    "\n",
    "    分析结果可以发现，前两个变量的重要性比较大；因此我在之后尝试使用t-sne算法将数据集的属性降低到2维来进行处理"
   ]
  },
  {
   "cell_type": "code",
   "execution_count": 124,
   "metadata": {
    "collapsed": false,
    "deletable": true,
    "editable": true
   },
   "outputs": [
    {
     "name": "stdout",
     "output_type": "stream",
     "text": [
      "[ 11634.42743269   1044.40928441    549.7129762      82.27319191\n",
      "     32.55276879     12.80348195      0.52167545      0.03739468]\n"
     ]
    }
   ],
   "source": [
    "from sklearn.decomposition import PCA\n",
    "pca = PCA(n_components=8)\n",
    "pca.fit(X)\n",
    "print(pca.explained_variance_)"
   ]
  },
  {
   "cell_type": "code",
   "execution_count": 125,
   "metadata": {
    "collapsed": false,
    "deletable": true,
    "editable": true
   },
   "outputs": [
    {
     "data": {
      "image/png": "[encoded data removed]",
      "text/plain": [
       "<matplotlib.figure.Figure at 0x10b010438>"
      ]
     },
     "metadata": {},
     "output_type": "display_data"
    }
   ],
   "source": [
    "%matplotlib inline\n",
    "import matplotlib.pyplot as plt\n",
    "plt.plot(list(pca.explained_variance_ratio_),'-o')\n",
    "plt.title('Explained variance ratio as function of PCA components')\n",
    "plt.ylabel('Explained variance ratio')\n",
    "plt.xlabel('Component')\n",
    "plt.show()"
   ]
  },
  {
   "cell_type": "markdown",
   "metadata": {},
   "source": [
    "## 5. Data sampling\n",
    "### 根据数据统计，共有1639个正类和16259个负类，数据集过于不平衡，因此我做了一下数据采样，将比例调整为1:1"
   ]
  },
  {
   "cell_type": "code",
   "execution_count": 126,
   "metadata": {
    "collapsed": false,
    "deletable": true,
    "editable": true
   },
   "outputs": [
    {
     "name": "stdout",
     "output_type": "stream",
     "text": [
      "(17898, 8) (17898,)\n",
      "total 1639 rows are detected as pulsar while 16259 rows aren't.\n"
     ]
    }
   ],
   "source": [
    "# some data process\n",
    "from sklearn.preprocessing import StandardScaler\n",
    "from sklearn import model_selection\n",
    "\n",
    "# do Standardlization\n",
    "X = StandardScaler().fit_transform(X)\n",
    "Y = np.array(Y)\n",
    "\n",
    "index_not = []\n",
    "index_is = []\n",
    "print(X.shape, Y.shape)\n",
    "for index, x in enumerate(X):\n",
    "    if Y[index] == 0:\n",
    "        index_not.append(index)\n",
    "    else:\n",
    "        index_is.append(index)\n",
    "print(\"total {} rows are detected as pulsar while {} rows aren't.\".format(len(index_is), len(index_not)))"
   ]
  },
  {
   "cell_type": "code",
   "execution_count": 127,
   "metadata": {
    "collapsed": false,
    "deletable": true,
    "editable": true
   },
   "outputs": [],
   "source": [
    "# 平衡数据集\n",
    "import random\n",
    "delete_not_index = random.sample(index_not, len(index_not) - len(index_is))\n",
    "delete_not_index.sort(reverse=True)\n",
    "for index in delete_not_index:\n",
    "    X = np.delete(X, index, axis=0)\n",
    "    Y = np.delete(Y, index, axis=0)\n"
   ]
  },
  {
   "cell_type": "code",
   "execution_count": 128,
   "metadata": {
    "collapsed": false
   },
   "outputs": [
    {
     "name": "stdout",
     "output_type": "stream",
     "text": [
      "total 1639 rows are detected as pulsar while 1639 rows aren't.\n",
      "(1966, 8) (1966,)\n"
     ]
    }
   ],
   "source": [
    "index_not = []\n",
    "index_is = []\n",
    "for index, x in enumerate(X):\n",
    "    if Y[index] == 0:\n",
    "        index_not.append(index)\n",
    "    else:\n",
    "        index_is.append(index)\n",
    "print(\"total {} rows are detected as pulsar while {} rows aren't.\".format(len(index_is), len(index_not)))\n",
    "X_train, X_test, Y_train, Y_test = model_selection.train_test_split(X, Y, test_size=0.4, random_state=0)\n",
    "print(X_train.shape, Y_train.shape)"
   ]
  },
  {
   "cell_type": "markdown",
   "metadata": {},
   "source": [
    "## 6. Classification\n",
    "### Main task of this homework"
   ]
  },
  {
   "cell_type": "code",
   "execution_count": 129,
   "metadata": {
    "collapsed": false,
    "deletable": true,
    "editable": true
   },
   "outputs": [
    {
     "name": "stdout",
     "output_type": "stream",
     "text": [
      "Time Elapsed:  0.3360128402709961\n"
     ]
    }
   ],
   "source": [
    "from KNN import KNN  # import my KNN\n",
    "cell_start=time()\n",
    "k = KNN(n_neighbors=3)\n",
    "k.fit(X_train, Y_train)\n",
    "pred_knn = k.predict(X_test)\n",
    "cell_end=time()\n",
    "print (\"Time Elapsed: \", cell_end - cell_start)"
   ]
  },
  {
   "cell_type": "code",
   "execution_count": 130,
   "metadata": {
    "collapsed": false
   },
   "outputs": [],
   "source": [
    "def score(pred_y, test_y):\n",
    "    tp, fp, tn, fn = [0,0,0,0]\n",
    "    for index, y in enumerate(pred_y):\n",
    "        if y == test_y[index]:\n",
    "            if y == 0:\n",
    "                tn += 1\n",
    "            else:\n",
    "                tp += 1\n",
    "        else:\n",
    "            if y == 0:\n",
    "                fn += 1\n",
    "            else:\n",
    "                fp += 1\n",
    "    print(\"Accuracy: {}\\nRecall: {}\".format(tp/(tp+fp), tp/(tp+fn)))\n",
    "    return tp/(tp+fp), tp/(tp+fn)\n",
    "                "
   ]
  },
  {
   "cell_type": "code",
   "execution_count": 131,
   "metadata": {
    "collapsed": false
   },
   "outputs": [
    {
     "name": "stdout",
     "output_type": "stream",
     "text": [
      "Accuracy: 0.9475357710651828\n",
      "Recall: 0.916923076923077\n"
     ]
    },
    {
     "data": {
      "text/plain": [
       "(0.9475357710651828, 0.916923076923077)"
      ]
     },
     "execution_count": 131,
     "metadata": {},
     "output_type": "execute_result"
    }
   ],
   "source": [
    "score(pred_knn, Y_test)"
   ]
  },
  {
   "cell_type": "markdown",
   "metadata": {},
   "source": [
    "## 7. Classification After PCA\n",
    "### My extended task of this homework"
   ]
  },
  {
   "cell_type": "code",
   "execution_count": 132,
   "metadata": {
    "collapsed": false
   },
   "outputs": [
    {
     "name": "stdout",
     "output_type": "stream",
     "text": [
      "(1966, 2) (1966,)\n"
     ]
    }
   ],
   "source": [
    "from sklearn.decomposition import PCA\n",
    "pca = PCA(n_components=2)\n",
    "newX = pca.fit_transform(X)\n",
    "X_train, X_test, Y_train, Y_test = model_selection.train_test_split(newX, Y, test_size=0.4, random_state=0)\n",
    "print(X_train.shape, Y_train.shape)"
   ]
  },
  {
   "cell_type": "code",
   "execution_count": 133,
   "metadata": {
    "collapsed": false
   },
   "outputs": [
    {
     "name": "stdout",
     "output_type": "stream",
     "text": [
      "Time Elapsed:  0.3077390193939209\n"
     ]
    }
   ],
   "source": [
    "from KNN import KNN  # import my KNN\n",
    "cell_start=time()\n",
    "k = KNN(n_neighbors=3)\n",
    "k.fit(X_train, Y_train)\n",
    "pred_knn = k.predict(X_test)\n",
    "cell_end=time()\n",
    "print (\"Time Elapsed: \", cell_end - cell_start)"
   ]
  },
  {
   "cell_type": "code",
   "execution_count": 134,
   "metadata": {
    "collapsed": false,
    "deletable": true,
    "editable": true
   },
   "outputs": [
    {
     "name": "stdout",
     "output_type": "stream",
     "text": [
      "Accuracy: 0.9093701996927803\n",
      "Recall: 0.9107692307692308\n"
     ]
    },
    {
     "data": {
      "text/plain": [
       "(0.9093701996927803, 0.9107692307692308)"
      ]
     },
     "execution_count": 134,
     "metadata": {},
     "output_type": "execute_result"
    }
   ],
   "source": [
    "score(pred_knn, Y_test)"
   ]
  },
  {
   "cell_type": "markdown",
   "metadata": {
    "deletable": true,
    "editable": true
   },
   "source": [
    "## 5. Classification\n",
    "### Main task of this homework"
   ]
  },
  {
   "cell_type": "markdown",
   "metadata": {
    "deletable": true,
    "editable": true
   },
   "source": [
    "### 5.1 SVM"
   ]
  },
  {
   "cell_type": "code",
   "execution_count": 9,
   "metadata": {
    "collapsed": false,
    "deletable": true,
    "editable": true
   },
   "outputs": [
    {
     "name": "stdout",
     "output_type": "stream",
     "text": [
      "Acurracy:  0.97905027933\n",
      "             precision    recall  f1-score   support\n",
      "\n",
      "          0       0.99      0.98      0.99      6648\n",
      "          1       0.80      0.93      0.86       512\n",
      "\n",
      "avg / total       0.98      0.98      0.98      7160\n",
      "\n",
      "Time Elapsed:  0.6914520263671875\n"
     ]
    }
   ],
   "source": [
    "from sklearn.svm import SVC\n",
    "from sklearn import metrics\n",
    "\n",
    "cell_start=time()\n",
    "svc = SVC()\n",
    "svm_model = svc.fit(X_train, Y_train)\n",
    "print(\"Acurracy: \", svm_model.score(X_test,Y_test))\n",
    "Y_pred_svm  = svm_model.predict(X_test)\n",
    "print(metrics.classification_report(Y_pred_svm, Y_test))\n",
    "cell_end=time()\n",
    "print (\"Time Elapsed: \", cell_end - cell_start)"
   ]
  },
  {
   "cell_type": "markdown",
   "metadata": {
    "deletable": true,
    "editable": true
   },
   "source": [
    "### 5.2 Naive Bayes"
   ]
  },
  {
   "cell_type": "code",
   "execution_count": 10,
   "metadata": {
    "collapsed": false,
    "deletable": true,
    "editable": true
   },
   "outputs": [
    {
     "name": "stdout",
     "output_type": "stream",
     "text": [
      "Acurracy:  0.949720670391\n",
      "             precision    recall  f1-score   support\n",
      "\n",
      "          0       0.96      0.99      0.97      6368\n",
      "          1       0.86      0.65      0.74       792\n",
      "\n",
      "avg / total       0.95      0.95      0.95      7160\n",
      "\n",
      "Time Elapsed:  0.018021106719970703\n"
     ]
    }
   ],
   "source": [
    "from sklearn.naive_bayes import BernoulliNB\n",
    "\n",
    "cell_start=time()\n",
    "nb = BernoulliNB()\n",
    "nb_model = nb.fit(X_train,Y_train)\n",
    "print(\"Acurracy: \", nb_model.score(X_test,Y_test))\n",
    "Y_pred_nb = nb_model.predict(X_test)\n",
    "print(metrics.classification_report(Y_pred_nb, Y_test))\n",
    "cell_end=time()\n",
    "print (\"Time Elapsed: \", cell_end - cell_start)"
   ]
  },
  {
   "cell_type": "markdown",
   "metadata": {
    "collapsed": true,
    "deletable": true,
    "editable": true
   },
   "source": [
    "### 5.3 Logistic Regression"
   ]
  },
  {
   "cell_type": "code",
   "execution_count": 11,
   "metadata": {
    "collapsed": false,
    "deletable": true,
    "editable": true
   },
   "outputs": [
    {
     "name": "stdout",
     "output_type": "stream",
     "text": [
      "Acurracy:  0.979329608939\n",
      "             precision    recall  f1-score   support\n",
      "\n",
      "          0       0.99      0.98      0.99      6646\n",
      "          1       0.81      0.93      0.87       514\n",
      "\n",
      "avg / total       0.98      0.98      0.98      7160\n",
      "\n",
      "Time Elapsed:  0.049653053283691406\n"
     ]
    }
   ],
   "source": [
    "from sklearn.linear_model import LogisticRegression as LR\n",
    "\n",
    "cell_start=time()\n",
    "lr = LR()\n",
    "lr_model = lr.fit(X_train,Y_train)\n",
    "print(\"Acurracy: \", lr_model.score(X_test,Y_test))\n",
    "Y_pred_lr = lr_model.predict(X_test)\n",
    "print(metrics.classification_report(Y_pred_lr, Y_test))\n",
    "cell_end=time()\n",
    "print (\"Time Elapsed: \", cell_end - cell_start)"
   ]
  },
  {
   "cell_type": "markdown",
   "metadata": {
    "deletable": true,
    "editable": true
   },
   "source": [
    "### 5.4 Decision Tree"
   ]
  },
  {
   "cell_type": "code",
   "execution_count": 12,
   "metadata": {
    "collapsed": false,
    "deletable": true,
    "editable": true
   },
   "outputs": [
    {
     "name": "stdout",
     "output_type": "stream",
     "text": [
      "Acurracy:  0.967318435754\n",
      "             precision    recall  f1-score   support\n",
      "\n",
      "          0       0.98      0.98      0.98      6538\n",
      "          1       0.83      0.79      0.81       622\n",
      "\n",
      "avg / total       0.97      0.97      0.97      7160\n",
      "\n",
      "Time Elapsed:  0.14553213119506836\n"
     ]
    }
   ],
   "source": [
    "from sklearn.tree import DecisionTreeClassifier\n",
    "\n",
    "cell_start=time()\n",
    "dt = DecisionTreeClassifier()\n",
    "dt_model = dt.fit(X_train,Y_train)\n",
    "print(\"Acurracy: \", dt_model.score(X_test,Y_test))\n",
    "Y_pred_dt = dt_model.predict(X_test)\n",
    "print(metrics.classification_report(Y_pred_dt, Y_test))\n",
    "cell_end=time()\n",
    "print (\"Time Elapsed: \", cell_end - cell_start)"
   ]
  },
  {
   "cell_type": "markdown",
   "metadata": {
    "deletable": true,
    "editable": true
   },
   "source": [
    "### 5.5 Ranfom Forest"
   ]
  },
  {
   "cell_type": "code",
   "execution_count": 13,
   "metadata": {
    "collapsed": false,
    "deletable": true,
    "editable": true
   },
   "outputs": [
    {
     "name": "stdout",
     "output_type": "stream",
     "text": [
      "Acurracy:  0.978631284916\n",
      "             precision    recall  f1-score   support\n",
      "\n",
      "          0       0.99      0.98      0.99      6635\n",
      "          1       0.81      0.92      0.86       525\n",
      "\n",
      "avg / total       0.98      0.98      0.98      7160\n",
      "\n",
      "Time Elapsed:  0.20850586891174316\n"
     ]
    }
   ],
   "source": [
    "from sklearn.ensemble import RandomForestClassifier\n",
    "\n",
    "cell_start=time()\n",
    "rf = RandomForestClassifier()\n",
    "rf_model = rf.fit(X_train,Y_train)\n",
    "print(\"Acurracy: \", rf_model.score(X_test,Y_test))\n",
    "Y_pred_rf = rf_model.predict(X_test)\n",
    "print(metrics.classification_report(Y_pred_rf, Y_test))\n",
    "cell_end=time()\n",
    "print (\"Time Elapsed: \", cell_end - cell_start)"
   ]
  },
  {
   "cell_type": "markdown",
   "metadata": {
    "deletable": true,
    "editable": true
   },
   "source": [
    "## 6. Dimension Reduction\n",
    "### 6.1 using t-sne to reduce feature dimention to 2"
   ]
  },
  {
   "cell_type": "code",
   "execution_count": 14,
   "metadata": {
    "collapsed": false,
    "deletable": true,
    "editable": true
   },
   "outputs": [
    {
     "name": "stdout",
     "output_type": "stream",
     "text": [
      "Time Elapsed:  831.8824689388275\n"
     ]
    }
   ],
   "source": [
    "from sklearn.manifold import TSNE\n",
    "\n",
    "cell_start=time()\n",
    "model = TSNE(n_components=2, random_state=0)\n",
    "np.set_printoptions(suppress=True)\n",
    "tsne_x = model.fit_transform(X)\n",
    "cell_end=time()\n",
    "print (\"Time Elapsed: \", cell_end - cell_start)"
   ]
  },
  {
   "cell_type": "code",
   "execution_count": 15,
   "metadata": {
    "collapsed": false,
    "deletable": true,
    "editable": true
   },
   "outputs": [
    {
     "name": "stdout",
     "output_type": "stream",
     "text": [
      "(10738, 2) (10738,)\n"
     ]
    }
   ],
   "source": [
    "X_train_tsne, X_test_tsne, Y_train_tsne, Y_test_tsne = model_selection.train_test_split(tsne_x, Y, test_size=0.4, random_state=0)\n",
    "print(X_train_tsne.shape, Y_train_tsne.shape)"
   ]
  },
  {
   "cell_type": "markdown",
   "metadata": {
    "deletable": true,
    "editable": true
   },
   "source": [
    "## 6.2 Using the most 2 important attribute according to PCA"
   ]
  },
  {
   "cell_type": "code",
   "execution_count": 16,
   "metadata": {
    "collapsed": false,
    "deletable": true,
    "editable": true
   },
   "outputs": [],
   "source": [
    "X_two = X[:,[0,1]]\n",
    "X_train_two, X_test_two, Y_train_two, Y_test_two = model_selection.train_test_split(X_two, Y, test_size=0.4, random_state=0)"
   ]
  },
  {
   "cell_type": "markdown",
   "metadata": {
    "deletable": true,
    "editable": true
   },
   "source": [
    "## 7. Classification after t-sne"
   ]
  },
  {
   "cell_type": "markdown",
   "metadata": {
    "deletable": true,
    "editable": true
   },
   "source": [
    "### 7.1 SVM"
   ]
  },
  {
   "cell_type": "code",
   "execution_count": 17,
   "metadata": {
    "collapsed": false,
    "deletable": true,
    "editable": true
   },
   "outputs": [
    {
     "name": "stdout",
     "output_type": "stream",
     "text": [
      "Acurracy:  0.938966480447\n",
      "             precision    recall  f1-score   support\n",
      "\n",
      "          0       1.00      0.94      0.97      6981\n",
      "          1       0.28      0.94      0.43       179\n",
      "\n",
      "avg / total       0.98      0.94      0.95      7160\n",
      "\n",
      "Time Elapsed:  3.686366081237793\n"
     ]
    }
   ],
   "source": [
    "cell_start=time()\n",
    "svc = SVC()\n",
    "svm_model_tsne = svc.fit(X_train_tsne, Y_train_tsne)\n",
    "print (\"Acurracy: \", svm_model_tsne.score(X_test_tsne,Y_test_tsne))\n",
    "Y_pred_svm_tsne  = svm_model_tsne.predict(X_test_tsne)\n",
    "print(metrics.classification_report(Y_pred_svm_tsne, Y_test_tsne))\n",
    "cell_end=time()\n",
    "print (\"Time Elapsed: \", cell_end - cell_start)"
   ]
  },
  {
   "cell_type": "markdown",
   "metadata": {
    "collapsed": true,
    "deletable": true,
    "editable": true
   },
   "source": [
    "### 7.2 Naive Bayes"
   ]
  },
  {
   "cell_type": "code",
   "execution_count": 18,
   "metadata": {
    "collapsed": false,
    "deletable": true,
    "editable": true
   },
   "outputs": [
    {
     "name": "stdout",
     "output_type": "stream",
     "text": [
      "Acurracy:  0.917039106145\n",
      "             precision    recall  f1-score   support\n",
      "\n",
      "          0       1.00      0.92      0.96      7160\n",
      "          1       0.00      0.00      0.00         0\n",
      "\n",
      "avg / total       1.00      0.92      0.96      7160\n",
      "\n",
      "Time Elapsed:  0.12138795852661133\n"
     ]
    },
    {
     "name": "stderr",
     "output_type": "stream",
     "text": [
      "/Library/Frameworks/Python.framework/Versions/3.5/lib/python3.5/site-packages/sklearn/metrics/classification.py:1115: UndefinedMetricWarning: Recall and F-score are ill-defined and being set to 0.0 in labels with no true samples.\n",
      "  'recall', 'true', average, warn_for)\n"
     ]
    }
   ],
   "source": [
    "cell_start=time()\n",
    "nb = BernoulliNB()\n",
    "nb_model_tsne = nb.fit(X_train_tsne,Y_train_tsne)\n",
    "print(\"Acurracy: \", nb_model_tsne.score(X_test_tsne,Y_test_tsne))\n",
    "Y_pred_nb_tsne = nb_model_tsne.predict(X_test_tsne)\n",
    "print(metrics.classification_report(Y_pred_nb_tsne, Y_test_tsne))\n",
    "cell_end=time()\n",
    "print (\"Time Elapsed: \", cell_end - cell_start)"
   ]
  },
  {
   "cell_type": "markdown",
   "metadata": {
    "deletable": true,
    "editable": true
   },
   "source": [
    "### 7.3 Logistic Regression"
   ]
  },
  {
   "cell_type": "code",
   "execution_count": 19,
   "metadata": {
    "collapsed": false,
    "deletable": true,
    "editable": true
   },
   "outputs": [
    {
     "name": "stdout",
     "output_type": "stream",
     "text": [
      "Acurracy:  0.917039106145\n",
      "             precision    recall  f1-score   support\n",
      "\n",
      "          0       1.00      0.92      0.96      7160\n",
      "          1       0.00      0.00      0.00         0\n",
      "\n",
      "avg / total       1.00      0.92      0.96      7160\n",
      "\n",
      "Time Elapsed:  0.03524899482727051\n"
     ]
    },
    {
     "name": "stderr",
     "output_type": "stream",
     "text": [
      "/Library/Frameworks/Python.framework/Versions/3.5/lib/python3.5/site-packages/sklearn/metrics/classification.py:1115: UndefinedMetricWarning: Recall and F-score are ill-defined and being set to 0.0 in labels with no true samples.\n",
      "  'recall', 'true', average, warn_for)\n"
     ]
    }
   ],
   "source": [
    "cell_start=time()\n",
    "lr = LR()\n",
    "lr_model_tsne = lr.fit(X_train_tsne,Y_train_tsne)\n",
    "print(\"Acurracy: \", lr_model_tsne.score(X_test_tsne,Y_test_tsne))\n",
    "Y_pred_lr_tsne = lr_model_tsne.predict(X_test_tsne)\n",
    "print(metrics.classification_report(Y_pred_lr_tsne, Y_test_tsne))\n",
    "cell_end=time()\n",
    "print (\"Time Elapsed: \", cell_end - cell_start)"
   ]
  },
  {
   "cell_type": "markdown",
   "metadata": {
    "deletable": true,
    "editable": true
   },
   "source": [
    "### 7.4 Decision Tree"
   ]
  },
  {
   "cell_type": "code",
   "execution_count": 20,
   "metadata": {
    "collapsed": false,
    "deletable": true,
    "editable": true
   },
   "outputs": [
    {
     "name": "stdout",
     "output_type": "stream",
     "text": [
      "Acurracy:  0.906703910615\n",
      "             precision    recall  f1-score   support\n",
      "\n",
      "          0       0.94      0.95      0.95      6502\n",
      "          1       0.49      0.44      0.47       658\n",
      "\n",
      "avg / total       0.90      0.91      0.90      7160\n",
      "\n",
      "Time Elapsed:  0.05046200752258301\n"
     ]
    }
   ],
   "source": [
    "cell_start=time()\n",
    "dt = DecisionTreeClassifier()\n",
    "dt_model_tsne = dt.fit(X_train_tsne,Y_train_tsne)\n",
    "print(\"Acurracy: \", dt_model_tsne.score(X_test_tsne,Y_test_tsne))\n",
    "Y_pred_dt_tsne = dt_model_tsne.predict(X_test_tsne)\n",
    "print(metrics.classification_report(Y_pred_dt_tsne, Y_test_tsne))\n",
    "cell_end=time()\n",
    "print (\"Time Elapsed: \", cell_end - cell_start)"
   ]
  },
  {
   "cell_type": "markdown",
   "metadata": {
    "deletable": true,
    "editable": true
   },
   "source": [
    "### 7.5 Random Forest"
   ]
  },
  {
   "cell_type": "code",
   "execution_count": 21,
   "metadata": {
    "collapsed": false,
    "deletable": true,
    "editable": true
   },
   "outputs": [
    {
     "name": "stdout",
     "output_type": "stream",
     "text": [
      "Acurracy:  0.936312849162\n",
      "             precision    recall  f1-score   support\n",
      "\n",
      "          0       0.98      0.95      0.97      6814\n",
      "          1       0.41      0.70      0.51       346\n",
      "\n",
      "avg / total       0.96      0.94      0.94      7160\n",
      "\n",
      "Time Elapsed:  0.20680499076843262\n"
     ]
    }
   ],
   "source": [
    "cell_start=time()\n",
    "rf = RandomForestClassifier()\n",
    "rf_model_tsne = rf.fit(X_train_tsne,Y_train_tsne)\n",
    "print(\"Acurracy: \", rf_model_tsne.score(X_test_tsne,Y_test_tsne))\n",
    "Y_pred_rf_tsne = rf_model_tsne.predict(X_test_tsne)\n",
    "print(metrics.classification_report(Y_pred_rf_tsne, Y_test))\n",
    "cell_end=time()\n",
    "print (\"Time Elapsed: \", cell_end - cell_start)"
   ]
  },
  {
   "cell_type": "markdown",
   "metadata": {
    "deletable": true,
    "editable": true
   },
   "source": [
    "## 8. Using 2 Attributes"
   ]
  },
  {
   "cell_type": "markdown",
   "metadata": {
    "deletable": true,
    "editable": true
   },
   "source": [
    "### 8.1 SVM"
   ]
  },
  {
   "cell_type": "code",
   "execution_count": 22,
   "metadata": {
    "collapsed": false,
    "deletable": true,
    "editable": true
   },
   "outputs": [
    {
     "name": "stdout",
     "output_type": "stream",
     "text": [
      "Acurracy:  0.969273743017\n",
      "             precision    recall  f1-score   support\n",
      "\n",
      "          0       1.00      0.97      0.98      6742\n",
      "          1       0.67      0.95      0.78       418\n",
      "\n",
      "avg / total       0.98      0.97      0.97      7160\n",
      "\n",
      "Time Elapsed:  0.9275970458984375\n"
     ]
    }
   ],
   "source": [
    "cell_start=time()\n",
    "svc = SVC()\n",
    "svm_model_two = svc.fit(X_train_two, Y_train_two)\n",
    "print (\"Acurracy: \", svm_model_two.score(X_test_two,Y_test_two))\n",
    "Y_pred_svm_two  = svm_model_two.predict(X_test_two)\n",
    "print(metrics.classification_report(Y_pred_svm_two, Y_test_two))\n",
    "cell_end=time()\n",
    "print (\"Time Elapsed: \", cell_end - cell_start)"
   ]
  },
  {
   "cell_type": "markdown",
   "metadata": {
    "collapsed": true,
    "deletable": true,
    "editable": true
   },
   "source": [
    "### 8.2 Naive Bayes"
   ]
  },
  {
   "cell_type": "code",
   "execution_count": 23,
   "metadata": {
    "collapsed": false,
    "deletable": true,
    "editable": true
   },
   "outputs": [
    {
     "name": "stdout",
     "output_type": "stream",
     "text": [
      "Acurracy:  0.917039106145\n",
      "             precision    recall  f1-score   support\n",
      "\n",
      "          0       1.00      0.92      0.96      7160\n",
      "          1       0.00      0.00      0.00         0\n",
      "\n",
      "avg / total       1.00      0.92      0.96      7160\n",
      "\n",
      "Time Elapsed:  0.012398958206176758\n"
     ]
    },
    {
     "name": "stderr",
     "output_type": "stream",
     "text": [
      "/Library/Frameworks/Python.framework/Versions/3.5/lib/python3.5/site-packages/sklearn/metrics/classification.py:1115: UndefinedMetricWarning: Recall and F-score are ill-defined and being set to 0.0 in labels with no true samples.\n",
      "  'recall', 'true', average, warn_for)\n"
     ]
    }
   ],
   "source": [
    "cell_start=time()\n",
    "nb = BernoulliNB()\n",
    "nb_model_two = nb.fit(X_train_two,Y_train_two)\n",
    "print(\"Acurracy: \", nb_model_two.score(X_test_two,Y_test_two))\n",
    "Y_pred_nb_two = nb_model_two.predict(X_test_two)\n",
    "print(metrics.classification_report(Y_pred_nb_two, Y_test_two))\n",
    "cell_end=time()\n",
    "print (\"Time Elapsed: \", cell_end - cell_start)"
   ]
  },
  {
   "cell_type": "markdown",
   "metadata": {
    "deletable": true,
    "editable": true
   },
   "source": [
    "### 8.3 Logistic Regression"
   ]
  },
  {
   "cell_type": "code",
   "execution_count": 24,
   "metadata": {
    "collapsed": false,
    "deletable": true,
    "editable": true
   },
   "outputs": [
    {
     "name": "stdout",
     "output_type": "stream",
     "text": [
      "Acurracy:  0.968575418994\n",
      "             precision    recall  f1-score   support\n",
      "\n",
      "          0       0.99      0.97      0.98      6715\n",
      "          1       0.69      0.91      0.78       445\n",
      "\n",
      "avg / total       0.98      0.97      0.97      7160\n",
      "\n",
      "Time Elapsed:  0.03749489784240723\n"
     ]
    }
   ],
   "source": [
    "cell_start=time()\n",
    "lr = LR()\n",
    "lr_model_two = lr.fit(X_train_two,Y_train_two)\n",
    "print(\"Acurracy: \", lr_model_two.score(X_test_two,Y_test_two))\n",
    "Y_pred_lr_two = lr_model_two.predict(X_test_two)\n",
    "print(metrics.classification_report(Y_pred_lr_two, Y_test_two))\n",
    "cell_end=time()\n",
    "print (\"Time Elapsed: \", cell_end - cell_start)"
   ]
  },
  {
   "cell_type": "markdown",
   "metadata": {
    "deletable": true,
    "editable": true
   },
   "source": [
    "### 8.4 Decision Tree"
   ]
  },
  {
   "cell_type": "code",
   "execution_count": 25,
   "metadata": {
    "collapsed": false,
    "deletable": true,
    "editable": true
   },
   "outputs": [
    {
     "name": "stdout",
     "output_type": "stream",
     "text": [
      "Acurracy:  0.943854748603\n",
      "             precision    recall  f1-score   support\n",
      "\n",
      "          0       0.96      0.97      0.97      6500\n",
      "          1       0.72      0.65      0.68       660\n",
      "\n",
      "avg / total       0.94      0.94      0.94      7160\n",
      "\n",
      "Time Elapsed:  0.18509387969970703\n"
     ]
    }
   ],
   "source": [
    "cell_start=time()\n",
    "dt = DecisionTreeClassifier()\n",
    "dt_model_two = dt.fit(X_train_two,Y_train_two)\n",
    "print(\"Acurracy: \", dt_model_two.score(X_test_two,Y_test_two))\n",
    "Y_pred_dt_two = dt_model_two.predict(X_test_two)\n",
    "print(metrics.classification_report(Y_pred_dt_two, Y_test_two))\n",
    "cell_end=time()\n",
    "print (\"Time Elapsed: \", cell_end - cell_start)"
   ]
  },
  {
   "cell_type": "markdown",
   "metadata": {
    "deletable": true,
    "editable": true
   },
   "source": [
    "### 8.5 Random Forest"
   ]
  },
  {
   "cell_type": "code",
   "execution_count": 26,
   "metadata": {
    "collapsed": false,
    "deletable": true,
    "editable": true
   },
   "outputs": [
    {
     "name": "stdout",
     "output_type": "stream",
     "text": [
      "Acurracy:  0.965363128492\n",
      "             precision    recall  f1-score   support\n",
      "\n",
      "          0       0.99      0.97      0.98      6682\n",
      "          1       0.69      0.86      0.77       478\n",
      "\n",
      "avg / total       0.97      0.97      0.97      7160\n",
      "\n",
      "Time Elapsed:  0.1830921173095703\n"
     ]
    }
   ],
   "source": [
    "cell_start=time()\n",
    "rf = RandomForestClassifier()\n",
    "rf_model_two = rf.fit(X_train_two,Y_train_two)\n",
    "print(\"Acurracy: \", rf_model_two.score(X_test_two,Y_test_two))\n",
    "Y_pred_rf_two = rf_model_two.predict(X_test_two)\n",
    "print(metrics.classification_report(Y_pred_rf_two, Y_test))\n",
    "cell_end=time()\n",
    "print (\"Time Elapsed: \", cell_end - cell_start)"
   ]
  },
  {
   "cell_type": "markdown",
   "metadata": {
    "deletable": true,
    "editable": true
   },
   "source": [
    "## 9. Result Analysis"
   ]
  },
  {
   "cell_type": "code",
   "execution_count": 27,
   "metadata": {
    "collapsed": false,
    "deletable": true,
    "editable": true
   },
   "outputs": [
    {
     "data": {
      "image/png": "[encoded data removed]",
      "text/plain": [
       "<matplotlib.figure.Figure at 0x10965da90>"
      ]
     },
     "metadata": {},
     "output_type": "display_data"
    }
   ],
   "source": [
    "# drow a line\n",
    "classifiers = ['svm', 'naive_bayes', 'logistic_regression', 'decision_tree', 'random_forest']\n",
    "accuracy_data = [svm_model.score(X_test,Y_test),\n",
    "                 nb_model.score(X_test,Y_test),\n",
    "                 lr_model.score(X_test,Y_test),\n",
    "                 dt_model.score(X_test,Y_test),\n",
    "                 rf_model.score(X_test,Y_test)]\n",
    "accuracy_data_tsne = [svm_model_tsne.score(X_test_tsne,Y_test_tsne),\n",
    "                      nb_model_tsne.score(X_test_tsne,Y_test_tsne),\n",
    "                      lr_model_tsne.score(X_test_tsne,Y_test_tsne),\n",
    "                      dt_model_tsne.score(X_test_tsne,Y_test_tsne),\n",
    "                      rf_model_tsne.score(X_test_tsne,Y_test_tsne)]\n",
    "accuracy_data_two = [svm_model_two.score(X_test_two,Y_test_two),\n",
    "                      nb_model_two.score(X_test_two,Y_test_two),\n",
    "                      lr_model_two.score(X_test_two,Y_test_two),\n",
    "                      dt_model_two.score(X_test_two,Y_test_two),\n",
    "                      rf_model_two.score(X_test_two,Y_test_two)]\n",
    "\n",
    "plt.style.use('ggplot')\n",
    "plt_index = [1, 2, 3, 4, 5]\n",
    "plt.figure(figsize=(10, 10/1.618))\n",
    "plt.ylim(0.75, 1)\n",
    "plt.title(\"Accuracy of the Classifiers with different attributes\", fontsize=20)\n",
    "plt.xlabel(\"Classifier\", fontsize=20)\n",
    "plt.xticks(plt_index, classifiers,fontsize=14)\n",
    "plt.ylabel(\"Accuracyy\", fontsize=20)\n",
    "plt.plot(plt_index, accuracy_data,'-',label=\"row_data\")\n",
    "plt.plot(plt_index, accuracy_data_tsne,'-',label=\"after_tsne\")\n",
    "plt.plot(plt_index, accuracy_data_two,'-',label=\"use_first_two\")\n",
    "plt.legend(fontsize=20)\n",
    "plt.grid()"
   ]
  },
  {
   "cell_type": "code",
   "execution_count": null,
   "metadata": {
    "collapsed": false,
    "deletable": true,
    "editable": true
   },
   "outputs": [],
   "source": []
  },
  {
   "cell_type": "code",
   "execution_count": null,
   "metadata": {
    "collapsed": true,
    "deletable": true,
    "editable": true
   },
   "outputs": [],
   "source": []
  }
 ],
 "metadata": {
  "kernelspec": {
   "display_name": "Python 3",
   "language": "python",
   "name": "python3"
  },
  "language_info": {
   "codemirror_mode": {
    "name": "ipython",
    "version": 3
   },
   "file_extension": ".py",
   "mimetype": "text/x-python",
   "name": "python",
   "nbconvert_exporter": "python",
   "pygments_lexer": "ipython3",
   "version": "3.5.1"
  }
 },
 "nbformat": 4,
 "nbformat_minor": 2
}
